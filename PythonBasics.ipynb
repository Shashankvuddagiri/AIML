{
  "nbformat": 4,
  "nbformat_minor": 0,
  "metadata": {
    "colab": {
      "provenance": [],
      "authorship_tag": "ABX9TyMry3E6PkmQhrrGq4jK4HBR",
      "include_colab_link": true
    },
    "kernelspec": {
      "name": "python3",
      "display_name": "Python 3"
    },
    "language_info": {
      "name": "python"
    }
  },
  "cells": [
    {
      "cell_type": "markdown",
      "metadata": {
        "id": "view-in-github",
        "colab_type": "text"
      },
      "source": [
        "<a href=\"https://colab.research.google.com/github/Shashankvuddagiri/AIML-Project-2320030343/blob/main/PythonBasics.ipynb\" target=\"_parent\"><img src=\"https://colab.research.google.com/assets/colab-badge.svg\" alt=\"Open In Colab\"/></a>"
      ]
    },
    {
      "cell_type": "code",
      "execution_count": null,
      "metadata": {
        "colab": {
          "base_uri": "https://localhost:8080/"
        },
        "id": "E5bFdpy1kCbG",
        "outputId": "8e6692ed-dbeb-4f89-eef7-dd8e756ebc53"
      },
      "outputs": [
        {
          "output_type": "stream",
          "name": "stdout",
          "text": [
            "Hello World\n"
          ]
        }
      ],
      "source": [
        "print(\"Hello World\");\n"
      ]
    },
    {
      "cell_type": "code",
      "source": [
        "a=float(input(\"enter first number\"))\n",
        "b=float(input(\"enter second number\"))\n",
        "\n",
        "print(a+b)\n",
        "print(a-b)\n",
        "print(a*b)\n",
        "print(a/b)\n",
        "print(a**b)\n",
        "print(a//b)\n",
        "print(a%b)"
      ],
      "metadata": {
        "colab": {
          "base_uri": "https://localhost:8080/"
        },
        "id": "nESJJ4V1rzTM",
        "outputId": "e175334a-7f0d-4bb1-ebd2-4a5997776b6f"
      },
      "execution_count": null,
      "outputs": [
        {
          "output_type": "stream",
          "name": "stdout",
          "text": [
            "enter first number30\n",
            "enter second number4\n",
            "34.0\n",
            "26.0\n",
            "120.0\n",
            "7.5\n",
            "810000.0\n",
            "7.0\n",
            "2.0\n"
          ]
        }
      ]
    },
    {
      "cell_type": "code",
      "source": [
        "#comparision operators\n",
        "a=20\n",
        "b=30\n",
        "c=20\n",
        "print(a==b)\n",
        "print(a==c)\n",
        "print(a>c)\n",
        "print(c<=a)\n",
        "print(a<=b)\n",
        "print(b>=c)\n",
        "print(a is not c)\n"
      ],
      "metadata": {
        "colab": {
          "base_uri": "https://localhost:8080/"
        },
        "id": "Ne_4jkKrtS1U",
        "outputId": "49584f32-7ce6-4190-e477-25e5501d688e"
      },
      "execution_count": null,
      "outputs": [
        {
          "output_type": "stream",
          "name": "stdout",
          "text": [
            "False\n",
            "True\n",
            "False\n",
            "True\n",
            "True\n",
            "True\n",
            "False\n"
          ]
        }
      ]
    },
    {
      "cell_type": "code",
      "source": [
        "a=30\n",
        "b=4\n",
        "a+=b\n",
        "print(a)\n",
        "a-=b\n",
        "print(a)\n",
        "a*=b\n",
        "print(a)"
      ],
      "metadata": {
        "colab": {
          "base_uri": "https://localhost:8080/"
        },
        "id": "Xn2aipBZs1kp",
        "outputId": "8cd35626-a772-4968-e6df-a8a5dba2c5b9"
      },
      "execution_count": null,
      "outputs": [
        {
          "output_type": "stream",
          "name": "stdout",
          "text": [
            "34\n",
            "30\n",
            "120\n"
          ]
        }
      ]
    },
    {
      "cell_type": "code",
      "source": [
        "#Logical operators\n",
        "a=30\n",
        "b=20\n",
        "print(a==b or a>b)\n",
        "print(a<b and a==b)\n",
        "print(not(a!=b))"
      ],
      "metadata": {
        "colab": {
          "base_uri": "https://localhost:8080/"
        },
        "id": "Nhc9A6Bwte0e",
        "outputId": "801bc7cc-a0ad-4b70-ce6c-c6aec3fd75e9"
      },
      "execution_count": null,
      "outputs": [
        {
          "output_type": "stream",
          "name": "stdout",
          "text": [
            "True\n",
            "False\n",
            "False\n"
          ]
        }
      ]
    },
    {
      "cell_type": "code",
      "source": [
        "#identity operators\n",
        "a=20\n",
        "b=30\n",
        "c=20\n",
        "print(a is c)\n",
        "print(b is c)\n",
        "print(a is not c)"
      ],
      "metadata": {
        "colab": {
          "base_uri": "https://localhost:8080/"
        },
        "id": "rb6pT87VtkcX",
        "outputId": "730325f3-8258-49d5-8b7b-2dc0f2a955e0"
      },
      "execution_count": null,
      "outputs": [
        {
          "output_type": "stream",
          "name": "stdout",
          "text": [
            "True\n",
            "False\n",
            "False\n"
          ]
        }
      ]
    },
    {
      "cell_type": "code",
      "source": [
        "#Membership operators\n",
        "lst=[1,2,3,\"hello\"]\n",
        "print(1 in lst)\n",
        "print(5 not in lst)\n",
        "print(\"hello\" not in lst)"
      ],
      "metadata": {
        "colab": {
          "base_uri": "https://localhost:8080/"
        },
        "id": "xpPpyNQ2t2Qf",
        "outputId": "b0e310b9-e43e-4421-a5a2-fd668cd69939"
      },
      "execution_count": null,
      "outputs": [
        {
          "output_type": "stream",
          "name": "stdout",
          "text": [
            "True\n",
            "True\n",
            "False\n"
          ]
        }
      ]
    },
    {
      "cell_type": "code",
      "source": [
        "n=5\n",
        "fact=1\n",
        "while(n!=0):\n",
        "  fact=fact*n\n",
        "  n=n-1\n",
        "print(fact)"
      ],
      "metadata": {
        "colab": {
          "base_uri": "https://localhost:8080/"
        },
        "id": "7PHMi5NbuWxU",
        "outputId": "5fab85cd-da2f-4c89-bc04-d946572e6872"
      },
      "execution_count": null,
      "outputs": [
        {
          "output_type": "stream",
          "name": "stdout",
          "text": [
            "120\n"
          ]
        }
      ]
    },
    {
      "cell_type": "code",
      "source": [
        "#lists\n",
        "# a list is a heterogenous datatype\n",
        "lst=[1,2,3,4,4.5,True,\"hello\"]\n",
        "print(lst)"
      ],
      "metadata": {
        "colab": {
          "base_uri": "https://localhost:8080/"
        },
        "id": "ATqylRXyufis",
        "outputId": "26b58c52-653c-4df8-c97e-7e8b924494c2"
      },
      "execution_count": null,
      "outputs": [
        {
          "output_type": "stream",
          "name": "stdout",
          "text": [
            "[1, 2, 3, 4, 4.5, True, 'hello']\n"
          ]
        }
      ]
    },
    {
      "cell_type": "code",
      "source": [
        "#conditional statements\n",
        "#simple if and elif\n",
        "a=20\n",
        "b=20\n",
        "if a>b:\n",
        "  print(a)\n",
        "elif a<b:\n",
        "  print(b)\n",
        "else:\n",
        "  print(\"equal\")"
      ],
      "metadata": {
        "colab": {
          "base_uri": "https://localhost:8080/"
        },
        "id": "0X9-DoI9uxXS",
        "outputId": "b445d5f8-7cfb-47c1-e101-86e24d23fc22"
      },
      "execution_count": null,
      "outputs": [
        {
          "output_type": "stream",
          "name": "stdout",
          "text": [
            "equal\n"
          ]
        }
      ]
    },
    {
      "cell_type": "code",
      "source": [
        "#and and or operators in conditions\n",
        "a=30\n",
        "b=40\n",
        "c=30\n",
        "if not a>c:\n",
        "  print(c)\n",
        "if b>a or c>b:\n",
        "  print(a)\n",
        "if a>b and a>c:\n",
        "  print(a)\n",
        "if b>a and b>c:\n",
        "  print(b)\n",
        "if c>a and c>b:\n",
        "  print(c)"
      ],
      "metadata": {
        "colab": {
          "base_uri": "https://localhost:8080/"
        },
        "id": "zAyDhySquztA",
        "outputId": "c09b7886-446e-4b00-ae2b-4f730e49c4c4"
      },
      "execution_count": null,
      "outputs": [
        {
          "output_type": "stream",
          "name": "stdout",
          "text": [
            "30\n",
            "30\n",
            "40\n"
          ]
        }
      ]
    },
    {
      "cell_type": "code",
      "source": [
        "a=30\n",
        "b=40\n",
        "c=30\n",
        "if  not a>c:\n",
        "  print(c)\n",
        "  if b>a or c>b:\n",
        "    print(a)\n",
        "    if a>b and a>c:\n",
        "      print(a)\n"
      ],
      "metadata": {
        "colab": {
          "base_uri": "https://localhost:8080/"
        },
        "id": "6_Bd7HrBvJNj",
        "outputId": "378b7eec-7f75-4032-9ce8-fa2cf7bf2b35"
      },
      "execution_count": null,
      "outputs": [
        {
          "output_type": "stream",
          "name": "stdout",
          "text": [
            "30\n",
            "30\n"
          ]
        }
      ]
    },
    {
      "cell_type": "code",
      "source": [
        "n=int(input(\"enter the range\"))\n",
        "oddlst=[]\n",
        "evenlst=[]\n",
        "for i in range(1,n+1):\n",
        "  if i % 2 ==0:\n",
        "    evenlst.append(i)\n",
        "  else:\n",
        "    oddlst.append(i)\n",
        "print(evenlst)\n",
        "print(oddlst)"
      ],
      "metadata": {
        "colab": {
          "base_uri": "https://localhost:8080/"
        },
        "id": "DOuC4R58yBP5",
        "outputId": "121357c7-1686-4a99-a05c-38e47531e5da"
      },
      "execution_count": null,
      "outputs": [
        {
          "output_type": "stream",
          "name": "stdout",
          "text": [
            "enter the range10\n",
            "[2, 4, 6, 8, 10]\n",
            "[1, 3, 5, 7, 9]\n"
          ]
        }
      ]
    },
    {
      "cell_type": "code",
      "source": [
        "n=int(9)\n",
        "for i in range(1,n+1):\n",
        "  print(i)\n",
        "\n"
      ],
      "metadata": {
        "colab": {
          "base_uri": "https://localhost:8080/"
        },
        "id": "ST9FqcPAiIZv",
        "outputId": "adc8feee-d5ef-4c5c-978c-3987c5ed5786"
      },
      "execution_count": null,
      "outputs": [
        {
          "output_type": "stream",
          "name": "stdout",
          "text": [
            "1\n",
            "2\n",
            "3\n",
            "4\n",
            "5\n",
            "6\n",
            "7\n",
            "8\n",
            "9\n"
          ]
        }
      ]
    },
    {
      "cell_type": "code",
      "source": [
        "# list operations\n",
        "lst=[]\n",
        "lst.append(10)\n",
        "print(lst)\n",
        "lst.append(20)\n",
        "print(lst)\n",
        "lst.append(5)\n",
        "print(lst)\n",
        "lst.sort()\n",
        "print(lst)\n",
        "lst.remove(10)\n",
        "print(lst)\n",
        "lst.append(15)\n",
        "print(lst)\n",
        "lst\n",
        "lst.pop()\n",
        "print(lst)\n",
        "lst\n",
        "lst.insert(2,30)\n",
        "print(lst)\n",
        "lst.reverse()\n",
        "print(lst)\n",
        "lst.append(20)\n",
        "print(lst)\n",
        "lst.count(20)\n",
        "\n",
        "lst+lst\n",
        "\n",
        "lst*2\n",
        "\n",
        "lst.index(20)\n",
        "\n",
        "min(lst)\n",
        "\n",
        "max(lst)\n"
      ],
      "metadata": {
        "colab": {
          "base_uri": "https://localhost:8080/"
        },
        "id": "OI3qRS6oylWj",
        "outputId": "39f9e8c6-3d91-4cb4-cb34-f21077d69b41"
      },
      "execution_count": null,
      "outputs": [
        {
          "output_type": "stream",
          "name": "stdout",
          "text": [
            "[10]\n",
            "[10, 20]\n",
            "[10, 20, 5]\n",
            "[5, 10, 20]\n",
            "[5, 20]\n",
            "[5, 20, 15]\n",
            "[5, 20]\n",
            "[5, 20, 30]\n",
            "[30, 20, 5]\n",
            "[30, 20, 5, 20]\n"
          ]
        },
        {
          "output_type": "execute_result",
          "data": {
            "text/plain": [
              "30"
            ]
          },
          "metadata": {},
          "execution_count": 23
        }
      ]
    }
  ]
}